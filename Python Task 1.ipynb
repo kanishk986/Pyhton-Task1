{
 "cells": [
  {
   "cell_type": "markdown",
   "metadata": {},
   "source": [
    "# Create a function which will take a list as an argument and return the product of all the numbers after creating a flat list.Use the below-given list as an argument for your function."
   ]
  },
  {
   "cell_type": "code",
   "execution_count": 112,
   "metadata": {},
   "outputs": [],
   "source": [
    "list1 = [1,2,3,4, [44,55,66, True], False, (34,56,78,89,34), {1,2,3,3,2,1}, {1:34, \"key2\": [55, 67, 78, 89], 4: (45,\n",
    "22, 61, 34)}, [56, 'data science'], 'Machine Learning']"
   ]
  },
  {
   "cell_type": "code",
   "execution_count": 113,
   "metadata": {},
   "outputs": [],
   "source": [
    "def Product(list1):\n",
    "    product=1\n",
    "    for i in list1:\n",
    "        \n",
    "        \n",
    "        if(type(i)==int):\n",
    "            product=product*i\n",
    "            \n",
    "        \n",
    "        #list\n",
    "        elif (type(i)==list):\n",
    "            for j in i:\n",
    "                \n",
    "                if(type(j)==int):\n",
    "                    product=product*j\n",
    "                    \n",
    "                    \n",
    "        #tuple            \n",
    "        elif (type(i)==tuple):\n",
    "            \n",
    "            for j in i:\n",
    "                if(type(j)==int):\n",
    "                    \n",
    "                    product=product*j\n",
    "                    \n",
    "        #set\n",
    "        elif (type(i)==set):\n",
    "            \n",
    "            for j in i:\n",
    "                \n",
    "                if(type(j)==int):\n",
    "                    \n",
    "                    product=product*j\n",
    "                    \n",
    "                    \n",
    "        #dict\n",
    "        elif(type(i)==dict):\n",
    "            \n",
    "            for x in i.items():\n",
    "                for j in x:\n",
    "        \n",
    "                    if(type(j)==int):\n",
    "                        \n",
    "                        product=product*j\n",
    "                        \n",
    "\n",
    "                    elif (type(j)==list):\n",
    "                        for k in j:\n",
    "                            if(type(k)==int):\n",
    "                                \n",
    "                                product=product*k\n",
    "                               \n",
    "\n",
    "                    elif (type(j)==tuple):\n",
    "\n",
    "                        for k in j:\n",
    "\n",
    "                            if(type(k)==int):\n",
    "                              \n",
    "                                product=product*k\n",
    "                                \n",
    "\n",
    "                    \n",
    "    return product           \n",
    "            "
   ]
  },
  {
   "cell_type": "code",
   "execution_count": 114,
   "metadata": {},
   "outputs": [],
   "source": [
    "p=Product(list1)"
   ]
  },
  {
   "cell_type": "code",
   "execution_count": 115,
   "metadata": {},
   "outputs": [
    {
     "data": {
      "text/plain": [
       "4134711838987085478833841242112000"
      ]
     },
     "execution_count": 115,
     "metadata": {},
     "output_type": "execute_result"
    }
   ],
   "source": [
    "p"
   ]
  },
  {
   "cell_type": "code",
   "execution_count": 116,
   "metadata": {},
   "outputs": [
    {
     "data": {
      "text/plain": [
       "[1,\n",
       " 2,\n",
       " 3,\n",
       " 4,\n",
       " [44, 55, 66, True],\n",
       " False,\n",
       " (34, 56, 78, 89, 34),\n",
       " {1, 2, 3},\n",
       " {1: 34, 'key2': [55, 67, 78, 89], 4: (45, 22, 61, 34)},\n",
       " [56, 'data science'],\n",
       " 'Machine Learning']"
      ]
     },
     "execution_count": 116,
     "metadata": {},
     "output_type": "execute_result"
    }
   ],
   "source": [
    "list1\n"
   ]
  },
  {
   "cell_type": "markdown",
   "metadata": {},
   "source": [
    "# Q2. Write a python program for encrypting a message sent to you by your friend. The logic of encryption should be such that, for a the output should be z. For b, the output should be y. For c, the output should be x respectively. Also, the whitespace should be replaced with a dollar sign. Keep the punctuation marks unchanged."
   ]
  },
  {
   "cell_type": "code",
   "execution_count": 118,
   "metadata": {},
   "outputs": [],
   "source": [
    "s='I want to become a Data Scientist.'"
   ]
  },
  {
   "cell_type": "code",
   "execution_count": 123,
   "metadata": {},
   "outputs": [],
   "source": [
    "def encrypt(s):\n",
    "    s1=\"\"\n",
    "    s=s.lower()\n",
    "    \n",
    "    for i in s:\n",
    "        \n",
    "        if(i==' '):\n",
    "            s1=s1+\"$\"\n",
    "        \n",
    "        elif(i=='a'):\n",
    "            s1=s1+'z'\n",
    "        \n",
    "        elif(i=='b'):\n",
    "            s1=s1+'y'\n",
    "        \n",
    "        elif(i=='c'):\n",
    "            \n",
    "            s1=s1+'x'\n",
    "        \n",
    "        else:\n",
    "            \n",
    "            s1=s1+i\n",
    "    return s1       \n",
    "            "
   ]
  },
  {
   "cell_type": "code",
   "execution_count": 124,
   "metadata": {},
   "outputs": [
    {
     "data": {
      "text/plain": [
       "'i$wznt$to$yexome$z$dztz$sxientist.'"
      ]
     },
     "execution_count": 124,
     "metadata": {},
     "output_type": "execute_result"
    }
   ],
   "source": [
    "encrypt(s)"
   ]
  },
  {
   "cell_type": "code",
   "execution_count": null,
   "metadata": {},
   "outputs": [],
   "source": [
    "     "
   ]
  },
  {
   "cell_type": "code",
   "execution_count": null,
   "metadata": {},
   "outputs": [],
   "source": []
  },
  {
   "cell_type": "code",
   "execution_count": null,
   "metadata": {},
   "outputs": [],
   "source": []
  },
  {
   "cell_type": "code",
   "execution_count": null,
   "metadata": {},
   "outputs": [],
   "source": []
  },
  {
   "cell_type": "code",
   "execution_count": null,
   "metadata": {},
   "outputs": [],
   "source": []
  }
 ],
 "metadata": {
  "kernelspec": {
   "display_name": "Python 3",
   "language": "python",
   "name": "python3"
  },
  "language_info": {
   "codemirror_mode": {
    "name": "ipython",
    "version": 3
   },
   "file_extension": ".py",
   "mimetype": "text/x-python",
   "name": "python",
   "nbconvert_exporter": "python",
   "pygments_lexer": "ipython3",
   "version": "3.8.5"
  }
 },
 "nbformat": 4,
 "nbformat_minor": 4
}
